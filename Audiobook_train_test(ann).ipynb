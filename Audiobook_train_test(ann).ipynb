{
  "nbformat": 4,
  "nbformat_minor": 0,
  "metadata": {
    "colab": {
      "name": "Audiobook_train_test(ann)",
      "provenance": [],
      "authorship_tag": "ABX9TyOsKpwMU9VQljDPdKCeXZ03",
      "include_colab_link": true
    },
    "kernelspec": {
      "name": "python3",
      "display_name": "Python 3"
    },
    "language_info": {
      "name": "python"
    }
  },
  "cells": [
    {
      "cell_type": "markdown",
      "metadata": {
        "id": "view-in-github",
        "colab_type": "text"
      },
      "source": [
        "<a href=\"https://colab.research.google.com/github/kirat89/Google_colab/blob/main/Audiobook_train_test(ann).ipynb\" target=\"_parent\"><img src=\"https://colab.research.google.com/assets/colab-badge.svg\" alt=\"Open In Colab\"/></a>"
      ]
    },
    {
      "cell_type": "markdown",
      "metadata": {
        "id": "PTmeb1DptIDz"
      },
      "source": [
        "## Importing Libraries\n"
      ]
    },
    {
      "cell_type": "code",
      "metadata": {
        "id": "D86mq_UtuCQl"
      },
      "source": [
        "import numpy as np"
      ],
      "execution_count": 1,
      "outputs": []
    },
    {
      "cell_type": "markdown",
      "metadata": {
        "id": "JLTZUsYguRhE"
      },
      "source": [
        "## Loading the Data"
      ]
    },
    {
      "cell_type": "code",
      "metadata": {
        "id": "F92hsR0kuW0e"
      },
      "source": [
        "raw_csv_data=np.loadtxt('Audiobooks_data.csv',delimiter=',')\n",
        "raw_inputs=raw_csv_data[:,1:-1]\n",
        "targets=raw_csv_data[:,-1]"
      ],
      "execution_count": 2,
      "outputs": []
    },
    {
      "cell_type": "code",
      "metadata": {
        "colab": {
          "base_uri": "https://localhost:8080/"
        },
        "id": "8WPQXJAuvRnA",
        "outputId": "b0eaa7f5-25d8-4205-80a5-ef8be100da18"
      },
      "source": [
        "print(raw_inputs)\n",
        "print(targets)"
      ],
      "execution_count": 3,
      "outputs": [
        {
          "output_type": "stream",
          "text": [
            "[[1620.   1620.     19.73 ... 1603.8     5.     92.  ]\n",
            " [2160.   2160.      5.33 ...    0.      0.      0.  ]\n",
            " [2160.   2160.      5.33 ...    0.      0.    388.  ]\n",
            " ...\n",
            " [2160.   2160.      6.14 ...    0.      0.      0.  ]\n",
            " [1620.   1620.      5.33 ...  615.6     0.     90.  ]\n",
            " [1674.   3348.      5.33 ...    0.      0.      0.  ]]\n",
            "[0. 0. 0. ... 0. 0. 1.]\n"
          ],
          "name": "stdout"
        }
      ]
    },
    {
      "cell_type": "markdown",
      "metadata": {
        "id": "o7nDV2JatPiJ"
      },
      "source": [
        "## Shuffle the Dataset\n"
      ]
    },
    {
      "cell_type": "code",
      "metadata": {
        "colab": {
          "base_uri": "https://localhost:8080/"
        },
        "id": "x4MkxidaYtU0",
        "outputId": "fdf82306-a4eb-48e5-eccb-68be8e741a71"
      },
      "source": [
        "indices=np.arange(raw_inputs.shape[0])\n",
        "print(indices)\n",
        "\n"
      ],
      "execution_count": 4,
      "outputs": [
        {
          "output_type": "stream",
          "text": [
            "[    0     1     2 ... 14081 14082 14083]\n"
          ],
          "name": "stdout"
        }
      ]
    },
    {
      "cell_type": "code",
      "metadata": {
        "id": "cKvMsA--bFMu"
      },
      "source": [
        "np.random.shuffle(indices)"
      ],
      "execution_count": 5,
      "outputs": []
    },
    {
      "cell_type": "code",
      "metadata": {
        "id": "UUC6aP-7Zdhv"
      },
      "source": [
        "shuffled_inputs=raw_inputs[indices]\n",
        "shuffled_targets=targets[indices]"
      ],
      "execution_count": 6,
      "outputs": []
    },
    {
      "cell_type": "code",
      "metadata": {
        "colab": {
          "base_uri": "https://localhost:8080/"
        },
        "id": "jro0ccppaHbx",
        "outputId": "fd9d1131-9edf-4707-8e6d-1bab89108735"
      },
      "source": [
        "print(shuffled_inputs)"
      ],
      "execution_count": 7,
      "outputs": [
        {
          "output_type": "stream",
          "text": [
            "[[1.620e+03 1.620e+03 5.610e+00 ... 0.000e+00 0.000e+00 1.000e+00]\n",
            " [3.240e+02 3.240e+02 9.220e+00 ... 0.000e+00 0.000e+00 0.000e+00]\n",
            " [1.620e+03 1.620e+03 1.973e+01 ... 5.670e+02 0.000e+00 2.100e+01]\n",
            " ...\n",
            " [2.160e+03 2.160e+03 8.000e+00 ... 4.104e+02 0.000e+00 2.800e+01]\n",
            " [1.620e+03 1.620e+03 5.330e+00 ... 0.000e+00 0.000e+00 3.300e+01]\n",
            " [2.160e+03 2.160e+03 5.690e+00 ... 0.000e+00 0.000e+00 0.000e+00]]\n"
          ],
          "name": "stdout"
        }
      ]
    },
    {
      "cell_type": "markdown",
      "metadata": {
        "id": "rdsJO5xstubU"
      },
      "source": [
        "## Balance the Dataset\n"
      ]
    },
    {
      "cell_type": "code",
      "metadata": {
        "id": "TlTfJCXFbk8u"
      },
      "source": [
        "#counting the no's of one in data\n",
        "num_one_target=int(np.sum(shuffled_targets))\n",
        "#setting a counter for 0 in targets\n",
        "zero_counter=0\n",
        "#to remove extra data we create a list that will contain the indices\n",
        "indices_to_remove=[]\n",
        "# Count the number of targets that are 0. \n",
        "# Once there are as many 0s as 1s, mark entries where the target is 0.\n",
        "for i in range(shuffled_targets.shape[0]):\n",
        "  if shuffled_targets[i]==0:\n",
        "    zero_counter+=1\n",
        "    if zero_counter>num_one_target:\n",
        "      indices_to_remove.append(i)\n",
        "\n",
        "\n",
        "balanced_shuffled_inputs=np.delete(shuffled_inputs,indices_to_remove,axis=0)\n",
        "balanced_shuffled_targets=np.delete(shuffled_targets,indices_to_remove,axis=0)"
      ],
      "execution_count": 8,
      "outputs": []
    },
    {
      "cell_type": "markdown",
      "metadata": {
        "id": "vF8E2po5t1bG"
      },
      "source": [
        "## Train Test Validation Split"
      ]
    },
    {
      "cell_type": "code",
      "metadata": {
        "id": "4m4UzQm-flFX"
      },
      "source": [
        "from sklearn.model_selection import train_test_split\n",
        "x_train,x_test,y_train,y_test= train_test_split(balanced_shuffled_inputs,balanced_shuffled_targets,test_size=.2,random_state=1)"
      ],
      "execution_count": 9,
      "outputs": []
    },
    {
      "cell_type": "markdown",
      "metadata": {
        "id": "jLI9PXhKt1kN"
      },
      "source": [
        "## Scaling The Dataset"
      ]
    },
    {
      "cell_type": "code",
      "metadata": {
        "id": "JaD6f0U-f8XU"
      },
      "source": [
        "from sklearn.preprocessing import StandardScaler\n",
        "ss=StandardScaler()\n",
        "x_train=ss.fit_transform(x_train)\n",
        "x_test=ss.transform(x_test)"
      ],
      "execution_count": 10,
      "outputs": []
    },
    {
      "cell_type": "markdown",
      "metadata": {
        "id": "FgBtzKXrgwwB"
      },
      "source": [
        "## Deep Learning Model"
      ]
    },
    {
      "cell_type": "code",
      "metadata": {
        "id": "yJw2CJXGgUF7"
      },
      "source": [
        "import tensorflow as tf\n",
        "ann=tf.keras.models.Sequential()\n",
        "ann.add(tf.keras.layers.Dense(units=100,activation='relu'))\n",
        "ann.add(tf.keras.layers.Dense(units=100,activation='relu'))\n",
        "\n",
        "ann.add(tf.keras.layers.Dense(units=1,activation='sigmoid'))"
      ],
      "execution_count": 11,
      "outputs": []
    },
    {
      "cell_type": "code",
      "metadata": {
        "id": "Jxe81n8XgUla"
      },
      "source": [
        "ann.compile(optimizer='adam' ,loss='binary_crossentropy', metrics=['accuracy'])"
      ],
      "execution_count": 12,
      "outputs": []
    },
    {
      "cell_type": "code",
      "metadata": {
        "colab": {
          "base_uri": "https://localhost:8080/"
        },
        "id": "TlPZ1Zrciy_H",
        "outputId": "a4fffdbf-5460-46a2-9d10-db4aa5ded087"
      },
      "source": [
        "ann.fit(x_train,y_train,batch_size=32,epochs=100,verbose=2)"
      ],
      "execution_count": 13,
      "outputs": [
        {
          "output_type": "stream",
          "text": [
            "Epoch 1/100\n",
            "112/112 - 1s - loss: 0.4799 - accuracy: 0.7628\n",
            "Epoch 2/100\n",
            "112/112 - 0s - loss: 0.3984 - accuracy: 0.7969\n",
            "Epoch 3/100\n",
            "112/112 - 0s - loss: 0.3811 - accuracy: 0.8066\n",
            "Epoch 4/100\n",
            "112/112 - 0s - loss: 0.3712 - accuracy: 0.8011\n",
            "Epoch 5/100\n",
            "112/112 - 0s - loss: 0.3709 - accuracy: 0.8050\n",
            "Epoch 6/100\n",
            "112/112 - 0s - loss: 0.3609 - accuracy: 0.8128\n",
            "Epoch 7/100\n",
            "112/112 - 0s - loss: 0.3607 - accuracy: 0.8159\n",
            "Epoch 8/100\n",
            "112/112 - 0s - loss: 0.3557 - accuracy: 0.8136\n",
            "Epoch 9/100\n",
            "112/112 - 0s - loss: 0.3567 - accuracy: 0.8111\n",
            "Epoch 10/100\n",
            "112/112 - 0s - loss: 0.3520 - accuracy: 0.8187\n",
            "Epoch 11/100\n",
            "112/112 - 0s - loss: 0.3538 - accuracy: 0.8108\n",
            "Epoch 12/100\n",
            "112/112 - 0s - loss: 0.3537 - accuracy: 0.8142\n",
            "Epoch 13/100\n",
            "112/112 - 0s - loss: 0.3479 - accuracy: 0.8198\n",
            "Epoch 14/100\n",
            "112/112 - 0s - loss: 0.3483 - accuracy: 0.8175\n",
            "Epoch 15/100\n",
            "112/112 - 0s - loss: 0.3575 - accuracy: 0.8089\n",
            "Epoch 16/100\n",
            "112/112 - 0s - loss: 0.3507 - accuracy: 0.8170\n",
            "Epoch 17/100\n",
            "112/112 - 0s - loss: 0.3516 - accuracy: 0.8117\n",
            "Epoch 18/100\n",
            "112/112 - 0s - loss: 0.3469 - accuracy: 0.8164\n",
            "Epoch 19/100\n",
            "112/112 - 0s - loss: 0.3465 - accuracy: 0.8192\n",
            "Epoch 20/100\n",
            "112/112 - 0s - loss: 0.3466 - accuracy: 0.8178\n",
            "Epoch 21/100\n",
            "112/112 - 0s - loss: 0.3468 - accuracy: 0.8136\n",
            "Epoch 22/100\n",
            "112/112 - 0s - loss: 0.3453 - accuracy: 0.8173\n",
            "Epoch 23/100\n",
            "112/112 - 0s - loss: 0.3473 - accuracy: 0.8173\n",
            "Epoch 24/100\n",
            "112/112 - 0s - loss: 0.3431 - accuracy: 0.8240\n",
            "Epoch 25/100\n",
            "112/112 - 0s - loss: 0.3462 - accuracy: 0.8148\n",
            "Epoch 26/100\n",
            "112/112 - 0s - loss: 0.3455 - accuracy: 0.8159\n",
            "Epoch 27/100\n",
            "112/112 - 0s - loss: 0.3431 - accuracy: 0.8178\n",
            "Epoch 28/100\n",
            "112/112 - 0s - loss: 0.3446 - accuracy: 0.8136\n",
            "Epoch 29/100\n",
            "112/112 - 0s - loss: 0.3450 - accuracy: 0.8139\n",
            "Epoch 30/100\n",
            "112/112 - 0s - loss: 0.3431 - accuracy: 0.8195\n",
            "Epoch 31/100\n",
            "112/112 - 0s - loss: 0.3402 - accuracy: 0.8164\n",
            "Epoch 32/100\n",
            "112/112 - 0s - loss: 0.3428 - accuracy: 0.8170\n",
            "Epoch 33/100\n",
            "112/112 - 0s - loss: 0.3413 - accuracy: 0.8156\n",
            "Epoch 34/100\n",
            "112/112 - 0s - loss: 0.3408 - accuracy: 0.8175\n",
            "Epoch 35/100\n",
            "112/112 - 0s - loss: 0.3428 - accuracy: 0.8178\n",
            "Epoch 36/100\n",
            "112/112 - 0s - loss: 0.3400 - accuracy: 0.8243\n",
            "Epoch 37/100\n",
            "112/112 - 0s - loss: 0.3379 - accuracy: 0.8192\n",
            "Epoch 38/100\n",
            "112/112 - 0s - loss: 0.3394 - accuracy: 0.8206\n",
            "Epoch 39/100\n",
            "112/112 - 0s - loss: 0.3397 - accuracy: 0.8203\n",
            "Epoch 40/100\n",
            "112/112 - 0s - loss: 0.3367 - accuracy: 0.8192\n",
            "Epoch 41/100\n",
            "112/112 - 0s - loss: 0.3370 - accuracy: 0.8215\n",
            "Epoch 42/100\n",
            "112/112 - 0s - loss: 0.3384 - accuracy: 0.8229\n",
            "Epoch 43/100\n",
            "112/112 - 0s - loss: 0.3363 - accuracy: 0.8178\n",
            "Epoch 44/100\n",
            "112/112 - 0s - loss: 0.3365 - accuracy: 0.8226\n",
            "Epoch 45/100\n",
            "112/112 - 0s - loss: 0.3388 - accuracy: 0.8181\n",
            "Epoch 46/100\n",
            "112/112 - 0s - loss: 0.3442 - accuracy: 0.8201\n",
            "Epoch 47/100\n",
            "112/112 - 0s - loss: 0.3369 - accuracy: 0.8187\n",
            "Epoch 48/100\n",
            "112/112 - 0s - loss: 0.3352 - accuracy: 0.8237\n",
            "Epoch 49/100\n",
            "112/112 - 0s - loss: 0.3359 - accuracy: 0.8212\n",
            "Epoch 50/100\n",
            "112/112 - 0s - loss: 0.3395 - accuracy: 0.8189\n",
            "Epoch 51/100\n",
            "112/112 - 0s - loss: 0.3369 - accuracy: 0.8161\n",
            "Epoch 52/100\n",
            "112/112 - 0s - loss: 0.3342 - accuracy: 0.8226\n",
            "Epoch 53/100\n",
            "112/112 - 0s - loss: 0.3381 - accuracy: 0.8187\n",
            "Epoch 54/100\n",
            "112/112 - 0s - loss: 0.3393 - accuracy: 0.8153\n",
            "Epoch 55/100\n",
            "112/112 - 0s - loss: 0.3368 - accuracy: 0.8170\n",
            "Epoch 56/100\n",
            "112/112 - 0s - loss: 0.3352 - accuracy: 0.8229\n",
            "Epoch 57/100\n",
            "112/112 - 0s - loss: 0.3392 - accuracy: 0.8134\n",
            "Epoch 58/100\n",
            "112/112 - 0s - loss: 0.3352 - accuracy: 0.8220\n",
            "Epoch 59/100\n",
            "112/112 - 0s - loss: 0.3352 - accuracy: 0.8215\n",
            "Epoch 60/100\n",
            "112/112 - 0s - loss: 0.3338 - accuracy: 0.8201\n",
            "Epoch 61/100\n",
            "112/112 - 0s - loss: 0.3360 - accuracy: 0.8243\n",
            "Epoch 62/100\n",
            "112/112 - 0s - loss: 0.3346 - accuracy: 0.8251\n",
            "Epoch 63/100\n",
            "112/112 - 0s - loss: 0.3331 - accuracy: 0.8223\n",
            "Epoch 64/100\n",
            "112/112 - 0s - loss: 0.3333 - accuracy: 0.8251\n",
            "Epoch 65/100\n",
            "112/112 - 0s - loss: 0.3341 - accuracy: 0.8234\n",
            "Epoch 66/100\n",
            "112/112 - 0s - loss: 0.3333 - accuracy: 0.8226\n",
            "Epoch 67/100\n",
            "112/112 - 0s - loss: 0.3344 - accuracy: 0.8223\n",
            "Epoch 68/100\n",
            "112/112 - 0s - loss: 0.3330 - accuracy: 0.8223\n",
            "Epoch 69/100\n",
            "112/112 - 0s - loss: 0.3328 - accuracy: 0.8175\n",
            "Epoch 70/100\n",
            "112/112 - 0s - loss: 0.3338 - accuracy: 0.8198\n",
            "Epoch 71/100\n",
            "112/112 - 0s - loss: 0.3325 - accuracy: 0.8265\n",
            "Epoch 72/100\n",
            "112/112 - 0s - loss: 0.3343 - accuracy: 0.8209\n",
            "Epoch 73/100\n",
            "112/112 - 0s - loss: 0.3312 - accuracy: 0.8265\n",
            "Epoch 74/100\n",
            "112/112 - 0s - loss: 0.3318 - accuracy: 0.8307\n",
            "Epoch 75/100\n",
            "112/112 - 0s - loss: 0.3318 - accuracy: 0.8206\n",
            "Epoch 76/100\n",
            "112/112 - 0s - loss: 0.3320 - accuracy: 0.8254\n",
            "Epoch 77/100\n",
            "112/112 - 0s - loss: 0.3359 - accuracy: 0.8226\n",
            "Epoch 78/100\n",
            "112/112 - 0s - loss: 0.3333 - accuracy: 0.8226\n",
            "Epoch 79/100\n",
            "112/112 - 0s - loss: 0.3321 - accuracy: 0.8226\n",
            "Epoch 80/100\n",
            "112/112 - 0s - loss: 0.3331 - accuracy: 0.8203\n",
            "Epoch 81/100\n",
            "112/112 - 0s - loss: 0.3302 - accuracy: 0.8248\n",
            "Epoch 82/100\n",
            "112/112 - 0s - loss: 0.3324 - accuracy: 0.8226\n",
            "Epoch 83/100\n",
            "112/112 - 0s - loss: 0.3302 - accuracy: 0.8215\n",
            "Epoch 84/100\n",
            "112/112 - 0s - loss: 0.3287 - accuracy: 0.8287\n",
            "Epoch 85/100\n",
            "112/112 - 0s - loss: 0.3289 - accuracy: 0.8212\n",
            "Epoch 86/100\n",
            "112/112 - 0s - loss: 0.3292 - accuracy: 0.8254\n",
            "Epoch 87/100\n",
            "112/112 - 0s - loss: 0.3285 - accuracy: 0.8251\n",
            "Epoch 88/100\n",
            "112/112 - 0s - loss: 0.3295 - accuracy: 0.8273\n",
            "Epoch 89/100\n",
            "112/112 - 0s - loss: 0.3281 - accuracy: 0.8248\n",
            "Epoch 90/100\n",
            "112/112 - 0s - loss: 0.3335 - accuracy: 0.8296\n",
            "Epoch 91/100\n",
            "112/112 - 0s - loss: 0.3302 - accuracy: 0.8240\n",
            "Epoch 92/100\n",
            "112/112 - 0s - loss: 0.3267 - accuracy: 0.8251\n",
            "Epoch 93/100\n",
            "112/112 - 0s - loss: 0.3310 - accuracy: 0.8212\n",
            "Epoch 94/100\n",
            "112/112 - 0s - loss: 0.3283 - accuracy: 0.8245\n",
            "Epoch 95/100\n",
            "112/112 - 0s - loss: 0.3313 - accuracy: 0.8270\n",
            "Epoch 96/100\n",
            "112/112 - 0s - loss: 0.3308 - accuracy: 0.8248\n",
            "Epoch 97/100\n",
            "112/112 - 0s - loss: 0.3294 - accuracy: 0.8279\n",
            "Epoch 98/100\n",
            "112/112 - 0s - loss: 0.3269 - accuracy: 0.8301\n",
            "Epoch 99/100\n",
            "112/112 - 0s - loss: 0.3293 - accuracy: 0.8284\n",
            "Epoch 100/100\n",
            "112/112 - 0s - loss: 0.3289 - accuracy: 0.8254\n"
          ],
          "name": "stdout"
        },
        {
          "output_type": "execute_result",
          "data": {
            "text/plain": [
              "<keras.callbacks.History at 0x7f8634129910>"
            ]
          },
          "metadata": {},
          "execution_count": 13
        }
      ]
    },
    {
      "cell_type": "markdown",
      "metadata": {
        "id": "_XHYx7mYjXnV"
      },
      "source": [
        "## Calculating Accuracy"
      ]
    },
    {
      "cell_type": "code",
      "metadata": {
        "colab": {
          "base_uri": "https://localhost:8080/"
        },
        "id": "fMzC4LFQjW_D",
        "outputId": "06cf3f43-9a85-4435-9eb8-ec5b6bb6fe2f"
      },
      "source": [
        "from sklearn.metrics import classification_report,accuracy_score,confusion_matrix\n",
        "\n",
        "pred=ann.predict(x_test)\n",
        "pred=(pred>.5)\n",
        "cm=confusion_matrix(y_test,pred)\n",
        "print(cm)"
      ],
      "execution_count": 14,
      "outputs": [
        {
          "output_type": "stream",
          "text": [
            "[[403  40]\n",
            " [113 339]]\n"
          ],
          "name": "stdout"
        }
      ]
    },
    {
      "cell_type": "code",
      "metadata": {
        "colab": {
          "base_uri": "https://localhost:8080/"
        },
        "id": "vdYxi0fujt-W",
        "outputId": "23307b63-0172-44e9-d0b5-795ae5906142"
      },
      "source": [
        "score=accuracy_score(y_test,pred)\n",
        "print(score)"
      ],
      "execution_count": 15,
      "outputs": [
        {
          "output_type": "stream",
          "text": [
            "0.829050279329609\n"
          ],
          "name": "stdout"
        }
      ]
    },
    {
      "cell_type": "code",
      "metadata": {
        "colab": {
          "base_uri": "https://localhost:8080/"
        },
        "id": "PoWmuDn5juCa",
        "outputId": "603e2f24-5f26-4c4c-e268-984fa6e0bda1"
      },
      "source": [
        "print(classification_report(y_test,pred))"
      ],
      "execution_count": 16,
      "outputs": [
        {
          "output_type": "stream",
          "text": [
            "              precision    recall  f1-score   support\n",
            "\n",
            "         0.0       0.78      0.91      0.84       443\n",
            "         1.0       0.89      0.75      0.82       452\n",
            "\n",
            "    accuracy                           0.83       895\n",
            "   macro avg       0.84      0.83      0.83       895\n",
            "weighted avg       0.84      0.83      0.83       895\n",
            "\n"
          ],
          "name": "stdout"
        }
      ]
    }
  ]
}